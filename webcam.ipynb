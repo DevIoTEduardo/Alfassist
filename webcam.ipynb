{
 "cells": [
  {
   "cell_type": "code",
   "execution_count": 1,
   "metadata": {},
   "outputs": [],
   "source": [
    "import cv2\n",
    "\n",
    "# Inicializa a captura de vídeo da webcam (0 é o índice da primeira câmera)\n",
    "cap = cv2.VideoCapture(0)\n",
    "\n",
    "# Verifica se a câmera foi aberta corretamente\n",
    "if not cap.isOpened():\n",
    "    print(\"Erro ao abrir a webcam\")\n",
    "else:\n",
    "    while True:\n",
    "        # Captura frame a frame\n",
    "        ret, frame = cap.read()\n",
    "\n",
    "        # Se o frame foi capturado corretamente, ret será True\n",
    "        if not ret:\n",
    "            print(\"Falha ao capturar imagem\")\n",
    "            break\n",
    "\n",
    "        # Mostra o frame capturado\n",
    "        cv2.imshow('Webcam', frame)\n",
    "\n",
    "        # Aguarda 1ms para verificar se a tecla 'q' foi pressionada para sair\n",
    "        if cv2.waitKey(1) & 0xFF == ord('q'):\n",
    "            break\n",
    "\n",
    "# Libera a captura e fecha todas as janelas\n",
    "cap.release()\n",
    "cv2.destroyAllWindows()"
   ]
  }
 ],
 "metadata": {
  "kernelspec": {
   "display_name": "ia",
   "language": "python",
   "name": "python3"
  },
  "language_info": {
   "codemirror_mode": {
    "name": "ipython",
    "version": 3
   },
   "file_extension": ".py",
   "mimetype": "text/x-python",
   "name": "python",
   "nbconvert_exporter": "python",
   "pygments_lexer": "ipython3",
   "version": "3.12.4"
  }
 },
 "nbformat": 4,
 "nbformat_minor": 2
}
